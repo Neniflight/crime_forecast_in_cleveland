{
 "cells": [
  {
   "cell_type": "markdown",
   "id": "a432ea67-e9d6-4d5f-92e4-a3899efdffc0",
   "metadata": {},
   "source": [
    "## Steps for Notebook\n",
    "1. Getting the datasets (cleveland, census data, acs data) (https://la.arcgis.com/databrowser/index.html), (immigation, emigration) (https://www.census.gov/acs/www/data/data-tables-and-tools/data-profiles/2022/) (**Ethan**)\n",
    "2. Combine into one dataset via geoenrichment (per block per year) (could be zip_code per year) (**Calvin**)\n",
    "4. Initial Visualization (hotspots for crime and socioeconomic factors, visualize blocks/zip_codes in Cleveland, show difference in demographics with a hotspot comparing 2010 vs 2020 census) (**Calvin** for hotspot), (**Ethan** for chloropleth maps)\n",
    "5. Perform correlation analysis with hotspots. How much socioeconomic factors explain the varability in crime rate. (**Ethan**)\n",
    "6. kNN, Isolation Forest, One-class SVM, Random Forest. Predict the crime rate for a zip-code/block based on socioeconomic factors. Split into a training vs test set (80/20). See which ones have the lowest MSE. (**Ethan** for Random Forest, Isolation Forest) (**Calvin** for kNN and One-class SVM)\n",
    "8. Comparing the models and detemerining the best one. (**Calvin**)"
   ]
  },
  {
   "cell_type": "markdown",
   "id": "5fbca766-6914-4727-acdd-cfa281704470",
   "metadata": {},
   "source": [
    "Finish up to step 4 by Thursday "
   ]
  },
  {
   "cell_type": "markdown",
   "id": "5659030a-5eb7-4176-90ed-5df5fac0ba00",
   "metadata": {},
   "source": [
    "## Part 1: Getting Data"
   ]
  },
  {
   "cell_type": "code",
   "execution_count": null,
   "id": "8dc9671f-20b0-427a-a88c-b311f8186e4f",
   "metadata": {},
   "outputs": [],
   "source": []
  },
  {
   "cell_type": "markdown",
   "id": "37ea7432-f4d6-4d11-ad55-4273eaa561a8",
   "metadata": {},
   "source": [
    "## Part 2: Combining Data"
   ]
  },
  {
   "cell_type": "code",
   "execution_count": null,
   "id": "1f47cafc-54c8-4361-963e-2b609e1985bc",
   "metadata": {},
   "outputs": [],
   "source": []
  },
  {
   "cell_type": "markdown",
   "id": "3b3c9a54-805a-42e3-ae24-98bfe6e6b3e1",
   "metadata": {},
   "source": [
    "## Part 3: Visualizations"
   ]
  },
  {
   "cell_type": "code",
   "execution_count": null,
   "id": "70b6aba7-72b6-4bfc-9852-3b9626279bc9",
   "metadata": {},
   "outputs": [],
   "source": []
  },
  {
   "cell_type": "markdown",
   "id": "093668bc-b186-42ba-a095-2af73cd6c96b",
   "metadata": {},
   "source": [
    "## Part 4: Correlation Analysis"
   ]
  },
  {
   "cell_type": "code",
   "execution_count": null,
   "id": "02f720b8-a3ba-4b8d-a74f-ecadedd38ff0",
   "metadata": {},
   "outputs": [],
   "source": []
  }
 ],
 "metadata": {
  "kernelspec": {
   "display_name": "Python 3 (ipykernel)",
   "language": "python",
   "name": "python3"
  },
  "language_info": {
   "codemirror_mode": {
    "name": "ipython",
    "version": 3
   },
   "file_extension": ".py",
   "mimetype": "text/x-python",
   "name": "python",
   "nbconvert_exporter": "python",
   "pygments_lexer": "ipython3",
   "version": "3.11.9"
  }
 },
 "nbformat": 4,
 "nbformat_minor": 5
}
