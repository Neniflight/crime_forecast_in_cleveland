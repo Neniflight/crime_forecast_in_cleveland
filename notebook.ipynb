{
 "cells": [
  {
   "cell_type": "markdown",
   "id": "a432ea67-e9d6-4d5f-92e4-a3899efdffc0",
   "metadata": {},
   "source": [
    "## Steps for Notebook\n",
    "1. Getting the datasets (cleveland, census data, acs data) (https://la.arcgis.com/databrowser/index.html), (immigation, emigration) (https://www.census.gov/acs/www/data/data-tables-and-tools/data-profiles/2022/) (**Ethan**)\n",
    "2. Combine into one dataset via geoenrichment (per block per year) (could be zip_code per year) (**Calvin**)\n",
    "4. Initial Visualization (hotspots for crime and socioeconomic factors, visualize blocks/zip_codes in Cleveland, show difference in demographics with a hotspot comparing 2010 vs 2020 census) (**Calvin** for hotspot), (**Ethan** for chloropleth maps)\n",
    "5. Perform correlation analysis with hotspots. How much socioeconomic factors explain the varability in crime rate. (**Ethan**)\n",
    "6. kNN, Isolation Forest, One-class SVM, Random Forest. Predict the crime rate for a zip-code/block based on socioeconomic factors. Split into a training vs test set (80/20). See which ones have the lowest MSE. (**Ethan** for Random Forest, Isolation Forest) (**Calvin** for kNN and One-class SVM)\n",
    "8. Comparing the models and detemerining the best one. (**Calvin**)"
   ]
  },
  {
   "cell_type": "markdown",
   "id": "5fbca766-6914-4727-acdd-cfa281704470",
   "metadata": {},
   "source": [
    "Finish up to step 4 by Thursday "
   ]
  },
  {
   "cell_type": "markdown",
   "id": "47843e54",
   "metadata": {},
   "source": [
    "## Imports"
   ]
  },
  {
   "cell_type": "code",
   "execution_count": null,
   "id": "dfc587a3-9cf1-4dcc-8ad4-44ef0c135837",
   "metadata": {},
   "outputs": [],
   "source": [
    "# imports\n",
    "import pandas as pd\n",
    "import geopandas as gpd\n",
    "import numpy as np\n",
    "import os\n",
    "\n",
    "import censusdata\n",
    "from census import Census\n",
    "from us import states\n",
    "\n",
    "from matplotlib import pyplot as plt\n",
    "import pygris\n",
    "import folium\n",
    "\n",
    "import arcgis\n",
    "from arcgis.gis import GIS\n",
    "from arcgis import geometry\n",
    "from arcgis.geometry import Geometry, SpatialReference\n",
    "from arcgis.features import FeatureLayer\n",
    "\n",
    "pd.set_option('display.max_columns', None)"
   ]
  },
  {
   "cell_type": "markdown",
   "id": "4129ff43",
   "metadata": {},
   "source": [
    "# Part 0: Imports and Initialization"
   ]
  },
  {
   "cell_type": "markdown",
   "id": "3f2cb2d6",
   "metadata": {},
   "source": [
    "## Functions"
   ]
  },
  {
   "cell_type": "code",
   "execution_count": null,
   "id": "ce4308b6",
   "metadata": {},
   "outputs": [],
   "source": [
    "\n",
    "def download_OH_data(var_map, year_start, year_end):\n",
    "    df_final = None\n",
    "    \n",
    "    for yr in range(year_start, year_end + 1):\n",
    "        c = Census(\"4977648d549eae5dd6bc0563b7c148db6c44642d\", year=yr)\n",
    "        \n",
    "        for raw_var, alias in var_map.items():\n",
    "  \n",
    "            if raw_var.startswith('DP'):\n",
    "                data = c.acs5dp.get(\n",
    "                    ('NAME', raw_var),\n",
    "                    {'for': 'tract:*', 'in': f'state:{states.OH.fips} county:035'}\n",
    "                )\n",
    "            else:\n",
    "                data = c.acs5.get(\n",
    "                    ('NAME', raw_var),\n",
    "                    {'for': 'tract:*', 'in': f'state:{states.OH.fips} county:035'}\n",
    "                )\n",
    "            \n",
    "\n",
    "            df_temp = pd.DataFrame(data)\n",
    "            df_temp.rename(columns={raw_var: f\"{alias}_{yr}\"}, inplace=True)\n",
    "\n",
    "            # Merge it into df_final\n",
    "            if df_final is None:\n",
    "                # If this is the first chunk of data, just assign\n",
    "                df_final = df_temp\n",
    "            else:\n",
    "                # Otherwise, merge on the geo-id columns\n",
    "                df_final = pd.merge(\n",
    "                    df_final, df_temp,\n",
    "                    on=['NAME', 'state', 'county', 'tract'],\n",
    "                    how='outer'  # or 'inner', your choice\n",
    "                )\n",
    "                \n",
    "    return df_final"
   ]
  },
  {
   "cell_type": "markdown",
   "id": "5659030a-5eb7-4176-90ed-5df5fac0ba00",
   "metadata": {},
   "source": [
    "## Part 1: Getting Data"
   ]
  },
  {
   "cell_type": "markdown",
   "id": "f53bb8e6",
   "metadata": {},
   "source": [
    "## Census Data"
   ]
  },
  {
   "cell_type": "markdown",
   "id": "81d13254",
   "metadata": {},
   "source": [
    "- Utilizing search functionality to locate variables"
   ]
  },
  {
   "cell_type": "code",
   "execution_count": null,
   "id": "1a71378f",
   "metadata": {},
   "outputs": [],
   "source": [
    "# s = censusdata.search('acs5', 2015, 'label', 'family')\n",
    "# s\n",
    "\n",
    "s = censusdata.search('acs5', 2015, 'name', 'B')\n",
    "s"
   ]
  },
  {
   "cell_type": "markdown",
   "id": "b6a772cc",
   "metadata": {},
   "source": [
    "- Codes of collected variables we will be using"
   ]
  },
  {
   "cell_type": "code",
   "execution_count": null,
   "id": "8dc9671f-20b0-427a-a88c-b311f8186e4f",
   "metadata": {
    "scrolled": true
   },
   "outputs": [],
   "source": [
    "s = censusdata.search('acs5', 2015, 'label', 'graduate')\n",
    "s"
   ]
  },
  {
   "cell_type": "code",
   "execution_count": null,
   "id": "78575621-6ebc-4b8c-afe3-2f2bef3c3b3c",
   "metadata": {},
   "outputs": [],
   "source": [
    "'''\n",
    "Add. codes to find:\n",
    " - Immigration/emmigration (how many people are moving to/from the area?)\n",
    "    - mobility/migration\n",
    " - Housing information (how many people own/rent their homes?)\n",
    " - Age distributions\n",
    " - Familial structures\n",
    "    - Household size, family size\n",
    " - in/out of labor force (different from income?)\n",
    " - educational attainment\n",
    "'''\n",
    "codes = {\n",
    "    'B06010_003E': 'income_yes',\n",
    "    'B06010_004E': 'income_no',\n",
    "    'B06010_005E': 'income_0_10k',\n",
    "    'B06010_006E': 'income_10_25k',\n",
    "    'B06010_007E': 'income_25_35k',\n",
    "    'B06010_008E': 'income_35_45k',\n",
    "    'B06010_009E': 'income_45_55k',\n",
    "    'B06010_010E': 'income_55_65k',\n",
    "    'B06010_011E': 'income_65_75k',\n",
    "    'B06010_013E': 'income_over_75k',\n",
    "    'B06002_001E': 'median_age',\n",
    "    'B15003_022E': 'bachelors_degree',\n",
    "    'B19083_001E': 'gini_index' # Measure of index inequality\n",
    "}"
   ]
  },
  {
   "cell_type": "markdown",
   "id": "76c885b8",
   "metadata": {},
   "source": [
    "- Running the downloads"
   ]
  },
  {
   "cell_type": "code",
   "execution_count": null,
   "id": "448a31e8",
   "metadata": {},
   "outputs": [],
   "source": [
    "test_code = {'B15003_022E': 'bachelors_degree'}\n",
    "\n",
    "df = download_OH_data(test_code, 2015, 2017)\n",
    "df.head()"
   ]
  },
  {
   "cell_type": "code",
   "execution_count": null,
   "id": "fc5e200b",
   "metadata": {},
   "outputs": [],
   "source": [
    "url = 'https://services3.arcgis.com/dty2kHktVXHrqO8i/arcgis/rest/services/Crime_Incidents/FeatureServer/0'\n",
    "layer = FeatureLayer(url)\n",
    "sdf = layer.query(where=\"OffenseYear >= 2015 AND OffenseYear <= 2021\", out_fields=\"*\", as_df=True)\n",
    "# udeally we would like to save it to ArcGIS, but we can't :(\n",
    "sdf.head()"
   ]
  },
  {
   "cell_type": "markdown",
   "id": "37ea7432-f4d6-4d11-ad55-4273eaa561a8",
   "metadata": {},
   "source": [
    "## Part 2: Preprocessing and Combining Data"
   ]
  },
  {
   "cell_type": "code",
   "execution_count": null,
   "id": "1f47cafc-54c8-4361-963e-2b609e1985bc",
   "metadata": {},
   "outputs": [],
   "source": [
    "df.head()"
   ]
  },
  {
   "cell_type": "code",
   "execution_count": null,
   "id": "072fabd6-6399-4b9e-87b7-0b2eb2cd67f9",
   "metadata": {
    "scrolled": true
   },
   "outputs": [],
   "source": [
    "year_cols = {}\n",
    "for col in df.columns:\n",
    "    parts = col.split('_')\n",
    "    if len(parts) > 1 and parts[-1].isdigit() and len(parts[-1]) == 4:\n",
    "        year = parts[-1]\n",
    "        base_name = '_'.join(parts[:-1])\n",
    "        if year not in year_cols:\n",
    "            year_cols[year] = []\n",
    "        year_cols[year].append((base_name, col))\n",
    "year_cols # dict of years with lists of sets of column_name without years and column_name with years"
   ]
  },
  {
   "cell_type": "code",
   "execution_count": null,
   "id": "6cf91104-19fc-4ed1-aa02-56273eac4550",
   "metadata": {},
   "outputs": [],
   "source": [
    "dfs = {}\n",
    "for year, cols in year_cols.items():\n",
    "    new_df = df[['NAME', 'state', 'county', 'tract']].copy() \n",
    "    new_df['year'] = year\n",
    "    for base_name, col in cols:\n",
    "        new_df[base_name] = df[col]\n",
    "    dfs[year] = new_df"
   ]
  },
  {
   "cell_type": "code",
   "execution_count": null,
   "id": "7139c94c-784e-4b13-a991-ddfeb905aa4c",
   "metadata": {},
   "outputs": [],
   "source": [
    "final_df = pd.concat(dfs.values(), ignore_index=True)"
   ]
  },
  {
   "cell_type": "code",
   "execution_count": null,
   "id": "9e9e3c2c-7765-4d51-ace0-1aeaa4e563b0",
   "metadata": {},
   "outputs": [],
   "source": [
    "# Changed data format into keys of name, tract, year instead \n",
    "# we need to add \"39035\" to each census tract\n",
    "final_df.head()"
   ]
  },
  {
   "cell_type": "code",
   "execution_count": null,
   "id": "0192d6d3-bacc-4248-959b-4beda7e0fed6",
   "metadata": {},
   "outputs": [],
   "source": [
    "sdf.head()"
   ]
  },
  {
   "cell_type": "markdown",
   "id": "3b3c9a54-805a-42e3-ae24-98bfe6e6b3e1",
   "metadata": {},
   "source": [
    "## Part 3: Visualizations"
   ]
  },
  {
   "cell_type": "code",
   "execution_count": null,
   "id": "70b6aba7-72b6-4bfc-9852-3b9626279bc9",
   "metadata": {},
   "outputs": [],
   "source": []
  },
  {
   "cell_type": "markdown",
   "id": "093668bc-b186-42ba-a095-2af73cd6c96b",
   "metadata": {},
   "source": [
    "## Part 4: Correlation Analysis"
   ]
  },
  {
   "cell_type": "code",
   "execution_count": null,
   "id": "02f720b8-a3ba-4b8d-a74f-ecadedd38ff0",
   "metadata": {},
   "outputs": [],
   "source": []
  }
 ],
 "metadata": {
  "kernelspec": {
   "display_name": "Python 3 (ipykernel)",
   "language": "python",
   "name": "python3"
  },
  "language_info": {
   "codemirror_mode": {
    "name": "ipython",
    "version": 3
   },
   "file_extension": ".py",
   "mimetype": "text/x-python",
   "name": "python",
   "nbconvert_exporter": "python",
   "pygments_lexer": "ipython3",
   "version": "3.11.9"
  }
 },
 "nbformat": 4,
 "nbformat_minor": 5
}
