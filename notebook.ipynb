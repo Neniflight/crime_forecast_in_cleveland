{
 "cells": [
  {
   "cell_type": "markdown",
   "id": "a432ea67-e9d6-4d5f-92e4-a3899efdffc0",
   "metadata": {},
   "source": [
    "## Steps for Notebook\n",
    "1. Getting the datasets (cleveland, census data, acs data) (https://la.arcgis.com/databrowser/index.html), (immigation, emigration) (https://www.census.gov/acs/www/data/data-tables-and-tools/data-profiles/2022/) (**Ethan**)\n",
    "2. Combine into one dataset via geoenrichment (per block per year) (could be zip_code per year) (**Calvin**)\n",
    "4. Initial Visualization (hotspots for crime and socioeconomic factors, visualize blocks/zip_codes in Cleveland, show difference in demographics with a hotspot comparing 2010 vs 2020 census) (**Calvin** for hotspot), (**Ethan** for chloropleth maps)\n",
    "5. Perform correlation analysis with hotspots. How much socioeconomic factors explain the varability in crime rate. (**Ethan**)\n",
    "6. kNN, Isolation Forest, One-class SVM, Random Forest. Predict the crime rate for a zip-code/block based on socioeconomic factors. Split into a training vs test set (80/20). See which ones have the lowest MSE. (**Ethan** for Random Forest, Isolation Forest) (**Calvin** for kNN and One-class SVM)\n",
    "8. Comparing the models and detemerining the best one. (**Calvin**)"
   ]
  },
  {
   "cell_type": "markdown",
   "id": "5fbca766-6914-4727-acdd-cfa281704470",
   "metadata": {},
   "source": [
    "Finish up to step 4 by Thursday "
   ]
  },
  {
   "cell_type": "markdown",
   "id": "4129ff43",
   "metadata": {},
   "source": [
    "# Part 0: Imports and Initialization"
   ]
  },
  {
   "cell_type": "markdown",
   "id": "47843e54",
   "metadata": {},
   "source": [
    "## Imports"
   ]
  },
  {
   "cell_type": "code",
   "execution_count": 1,
   "id": "35b3bd8e",
   "metadata": {},
   "outputs": [],
   "source": [
    "%matplotlib inline\n",
    "\n",
    "import pandas as pd\n",
    "import geopandas as gpd\n",
    "import numpy as np\n",
    "import os\n",
    "\n",
    "import censusdata\n",
    "from census import Census\n",
    "from us import states\n",
    "\n",
    "from matplotlib import pyplot as plt\n",
    "import pygris\n",
    "import folium\n",
    "\n",
    "pd.set_option('display.max_columns', None)"
   ]
  },
  {
   "cell_type": "markdown",
   "id": "3f2cb2d6",
   "metadata": {},
   "source": [
    "## Functions"
   ]
  },
  {
   "cell_type": "code",
   "execution_count": 27,
   "id": "ce4308b6",
   "metadata": {},
   "outputs": [],
   "source": [
    "\n",
    "def download_OH_data(var_map, year_start, year_end):\n",
    "    df_final = None\n",
    "    \n",
    "    for yr in range(year_start, year_end + 1):\n",
    "        c = Census(\"4977648d549eae5dd6bc0563b7c148db6c44642d\", year=yr)\n",
    "        \n",
    "        for raw_var, alias in var_map.items():\n",
    "  \n",
    "            if raw_var.startswith('DP'):\n",
    "                data = c.acs5dp.get(\n",
    "                    ('NAME', raw_var),\n",
    "                    {'for': 'tract:*', 'in': f'state:{states.OH.fips} county:035'}\n",
    "                )\n",
    "            else:\n",
    "                data = c.acs5.get(\n",
    "                    ('NAME', raw_var),\n",
    "                    {'for': 'tract:*', 'in': f'state:{states.OH.fips} county:035'}\n",
    "                )\n",
    "            \n",
    "\n",
    "            df_temp = pd.DataFrame(data)\n",
    "            df_temp.rename(columns={raw_var: f\"{alias}_{yr}\"}, inplace=True)\n",
    "\n",
    "            # Merge it into df_final\n",
    "            if df_final is None:\n",
    "                # If this is the first chunk of data, just assign\n",
    "                df_final = df_temp\n",
    "            else:\n",
    "                # Otherwise, merge on the geo-id columns\n",
    "                df_final = pd.merge(\n",
    "                    df_final, df_temp,\n",
    "                    on=['NAME', 'state', 'county', 'tract'],\n",
    "                    how='outer'  # or 'inner', your choice\n",
    "                )\n",
    "                \n",
    "    return df_final"
   ]
  },
  {
   "cell_type": "markdown",
   "id": "5659030a-5eb7-4176-90ed-5df5fac0ba00",
   "metadata": {},
   "source": [
    "## Part 1: Getting Data"
   ]
  },
  {
   "cell_type": "markdown",
   "id": "f53bb8e6",
   "metadata": {},
   "source": [
    "## Census Data"
   ]
  },
  {
   "cell_type": "markdown",
   "id": "81d13254",
   "metadata": {},
   "source": [
    "- Utilizing search functionality to locate variables"
   ]
  },
  {
   "cell_type": "code",
   "execution_count": 22,
   "id": "1a71378f",
   "metadata": {},
   "outputs": [
    {
     "data": {
      "text/plain": [
       "[]"
      ]
     },
     "execution_count": 22,
     "metadata": {},
     "output_type": "execute_result"
    }
   ],
   "source": [
    "# s = censusdata.search('acs5', 2015, 'label', 'family')\n",
    "# s\n",
    "\n",
    "s = censusdata.search('acs5', 2015, 'name', 'B')\n",
    "s"
   ]
  },
  {
   "cell_type": "markdown",
   "id": "b6a772cc",
   "metadata": {},
   "source": [
    "- Codes of collected variables we will be using"
   ]
  },
  {
   "cell_type": "code",
   "execution_count": null,
   "id": "8dc9671f-20b0-427a-a88c-b311f8186e4f",
   "metadata": {},
   "outputs": [],
   "source": [
    "'''\n",
    "Add. codes to find:\n",
    " - Immigration/emmigration (how many people are moving to/from the area?)\n",
    "    - mobility/migration\n",
    " - Housing information (how many people own/rent their homes?)\n",
    " - Age distributions\n",
    " - Familial structures\n",
    "    - Household size, family size\n",
    " - in/out of labor force (different from income?)\n",
    " - educational attainment\n",
    "'''\n",
    "codes = {\n",
    "    'B06010_003E': 'income_yes',\n",
    "    'B06010_004E': 'income_no',\n",
    "    'B06010_005E': 'income_0_10k',\n",
    "    'B06010_006E': 'income_10_25k',\n",
    "    'B06010_007E': 'income_25_35k',\n",
    "    'B06010_008E': 'income_35_45k',\n",
    "    'B06010_009E': 'income_45_55k',\n",
    "    'B06010_010E': 'income_55_65k',\n",
    "    'B06010_011E': 'income_65_75k',\n",
    "    'B06010_013E': 'income_over_75k',\n",
    "\n",
    "    'B06002_001E': 'median_age',\n",
    "\n",
    "    'B15003_022E': 'bachelors_degree'\n",
    "\n",
    "    'B19083_001E': 'gini_index' # Measure of index inequality\n",
    "}"
   ]
  },
  {
   "cell_type": "markdown",
   "id": "76c885b8",
   "metadata": {},
   "source": [
    "- Running the downloads"
   ]
  },
  {
   "cell_type": "code",
   "execution_count": 28,
   "id": "448a31e8",
   "metadata": {},
   "outputs": [
    {
     "data": {
      "text/html": [
       "<div>\n",
       "<style scoped>\n",
       "    .dataframe tbody tr th:only-of-type {\n",
       "        vertical-align: middle;\n",
       "    }\n",
       "\n",
       "    .dataframe tbody tr th {\n",
       "        vertical-align: top;\n",
       "    }\n",
       "\n",
       "    .dataframe thead th {\n",
       "        text-align: right;\n",
       "    }\n",
       "</style>\n",
       "<table border=\"1\" class=\"dataframe\">\n",
       "  <thead>\n",
       "    <tr style=\"text-align: right;\">\n",
       "      <th></th>\n",
       "      <th>NAME</th>\n",
       "      <th>bachelors_degree_2015</th>\n",
       "      <th>state</th>\n",
       "      <th>county</th>\n",
       "      <th>tract</th>\n",
       "      <th>bachelors_degree_2016</th>\n",
       "      <th>bachelors_degree_2017</th>\n",
       "    </tr>\n",
       "  </thead>\n",
       "  <tbody>\n",
       "    <tr>\n",
       "      <th>0</th>\n",
       "      <td>Census Tract 1514, Cuyahoga County, Ohio</td>\n",
       "      <td>62.0</td>\n",
       "      <td>39</td>\n",
       "      <td>035</td>\n",
       "      <td>151400</td>\n",
       "      <td>83.0</td>\n",
       "      <td>74.0</td>\n",
       "    </tr>\n",
       "    <tr>\n",
       "      <th>1</th>\n",
       "      <td>Census Tract 1524, Cuyahoga County, Ohio</td>\n",
       "      <td>130.0</td>\n",
       "      <td>39</td>\n",
       "      <td>035</td>\n",
       "      <td>152400</td>\n",
       "      <td>170.0</td>\n",
       "      <td>174.0</td>\n",
       "    </tr>\n",
       "    <tr>\n",
       "      <th>2</th>\n",
       "      <td>Census Tract 1527.02, Cuyahoga County, Ohio</td>\n",
       "      <td>177.0</td>\n",
       "      <td>39</td>\n",
       "      <td>035</td>\n",
       "      <td>152702</td>\n",
       "      <td>191.0</td>\n",
       "      <td>139.0</td>\n",
       "    </tr>\n",
       "    <tr>\n",
       "      <th>3</th>\n",
       "      <td>Census Tract 1542, Cuyahoga County, Ohio</td>\n",
       "      <td>139.0</td>\n",
       "      <td>39</td>\n",
       "      <td>035</td>\n",
       "      <td>154200</td>\n",
       "      <td>118.0</td>\n",
       "      <td>113.0</td>\n",
       "    </tr>\n",
       "    <tr>\n",
       "      <th>4</th>\n",
       "      <td>Census Tract 1605, Cuyahoga County, Ohio</td>\n",
       "      <td>813.0</td>\n",
       "      <td>39</td>\n",
       "      <td>035</td>\n",
       "      <td>160500</td>\n",
       "      <td>864.0</td>\n",
       "      <td>961.0</td>\n",
       "    </tr>\n",
       "  </tbody>\n",
       "</table>\n",
       "</div>"
      ],
      "text/plain": [
       "                                          NAME  bachelors_degree_2015 state  \\\n",
       "0     Census Tract 1514, Cuyahoga County, Ohio                   62.0    39   \n",
       "1     Census Tract 1524, Cuyahoga County, Ohio                  130.0    39   \n",
       "2  Census Tract 1527.02, Cuyahoga County, Ohio                  177.0    39   \n",
       "3     Census Tract 1542, Cuyahoga County, Ohio                  139.0    39   \n",
       "4     Census Tract 1605, Cuyahoga County, Ohio                  813.0    39   \n",
       "\n",
       "  county   tract  bachelors_degree_2016  bachelors_degree_2017  \n",
       "0    035  151400                   83.0                   74.0  \n",
       "1    035  152400                  170.0                  174.0  \n",
       "2    035  152702                  191.0                  139.0  \n",
       "3    035  154200                  118.0                  113.0  \n",
       "4    035  160500                  864.0                  961.0  "
      ]
     },
     "execution_count": 28,
     "metadata": {},
     "output_type": "execute_result"
    }
   ],
   "source": [
    "test_code = {'B15003_022E': 'bachelors_degree'}\n",
    "\n",
    "df = download_OH_data(test_code, 2015, 2017)\n",
    "df.head()"
   ]
  },
  {
   "cell_type": "code",
   "execution_count": 23,
   "id": "25f192fb",
   "metadata": {},
   "outputs": [],
   "source": [
    "cuyahoga_tracts = pygris.tracts(state=\"39\", county=\"035\", year=2022)  # Adjust year if needed"
   ]
  },
  {
   "cell_type": "code",
   "execution_count": 26,
   "id": "fc5e200b",
   "metadata": {},
   "outputs": [
    {
     "data": {
      "text/html": [
       "<div>\n",
       "<style scoped>\n",
       "    .dataframe tbody tr th:only-of-type {\n",
       "        vertical-align: middle;\n",
       "    }\n",
       "\n",
       "    .dataframe tbody tr th {\n",
       "        vertical-align: top;\n",
       "    }\n",
       "\n",
       "    .dataframe thead th {\n",
       "        text-align: right;\n",
       "    }\n",
       "</style>\n",
       "<table border=\"1\" class=\"dataframe\">\n",
       "  <thead>\n",
       "    <tr style=\"text-align: right;\">\n",
       "      <th></th>\n",
       "      <th>STATEFP</th>\n",
       "      <th>COUNTYFP</th>\n",
       "      <th>TRACTCE</th>\n",
       "      <th>GEOID</th>\n",
       "      <th>NAME</th>\n",
       "      <th>NAMELSAD</th>\n",
       "      <th>MTFCC</th>\n",
       "      <th>FUNCSTAT</th>\n",
       "      <th>ALAND</th>\n",
       "      <th>AWATER</th>\n",
       "      <th>INTPTLAT</th>\n",
       "      <th>INTPTLON</th>\n",
       "      <th>geometry</th>\n",
       "    </tr>\n",
       "  </thead>\n",
       "  <tbody>\n",
       "    <tr>\n",
       "      <th>190</th>\n",
       "      <td>39</td>\n",
       "      <td>035</td>\n",
       "      <td>175109</td>\n",
       "      <td>39035175109</td>\n",
       "      <td>1751.09</td>\n",
       "      <td>Census Tract 1751.09</td>\n",
       "      <td>G5020</td>\n",
       "      <td>S</td>\n",
       "      <td>3598417</td>\n",
       "      <td>0</td>\n",
       "      <td>+41.3432585</td>\n",
       "      <td>-081.7720694</td>\n",
       "      <td>POLYGON ((-81.78524 41.33829, -81.78522 41.339...</td>\n",
       "    </tr>\n",
       "    <tr>\n",
       "      <th>191</th>\n",
       "      <td>39</td>\n",
       "      <td>035</td>\n",
       "      <td>175110</td>\n",
       "      <td>39035175110</td>\n",
       "      <td>1751.10</td>\n",
       "      <td>Census Tract 1751.10</td>\n",
       "      <td>G5020</td>\n",
       "      <td>S</td>\n",
       "      <td>5527803</td>\n",
       "      <td>25406</td>\n",
       "      <td>+41.3207460</td>\n",
       "      <td>-081.7646461</td>\n",
       "      <td>POLYGON ((-81.78528 41.32275, -81.78528 41.323...</td>\n",
       "    </tr>\n",
       "    <tr>\n",
       "      <th>192</th>\n",
       "      <td>39</td>\n",
       "      <td>035</td>\n",
       "      <td>190506</td>\n",
       "      <td>39035190506</td>\n",
       "      <td>1905.06</td>\n",
       "      <td>Census Tract 1905.06</td>\n",
       "      <td>G5020</td>\n",
       "      <td>S</td>\n",
       "      <td>9542971</td>\n",
       "      <td>0</td>\n",
       "      <td>+41.3762370</td>\n",
       "      <td>-081.9424544</td>\n",
       "      <td>POLYGON ((-81.97096 41.36935, -81.97096 41.369...</td>\n",
       "    </tr>\n",
       "    <tr>\n",
       "      <th>193</th>\n",
       "      <td>39</td>\n",
       "      <td>035</td>\n",
       "      <td>172105</td>\n",
       "      <td>39035172105</td>\n",
       "      <td>1721.05</td>\n",
       "      <td>Census Tract 1721.05</td>\n",
       "      <td>G5020</td>\n",
       "      <td>S</td>\n",
       "      <td>773060</td>\n",
       "      <td>0</td>\n",
       "      <td>+41.5266147</td>\n",
       "      <td>-081.4355169</td>\n",
       "      <td>POLYGON ((-81.43879 41.53301, -81.43292 41.533...</td>\n",
       "    </tr>\n",
       "    <tr>\n",
       "      <th>194</th>\n",
       "      <td>39</td>\n",
       "      <td>035</td>\n",
       "      <td>152605</td>\n",
       "      <td>39035152605</td>\n",
       "      <td>1526.05</td>\n",
       "      <td>Census Tract 1526.05</td>\n",
       "      <td>G5020</td>\n",
       "      <td>S</td>\n",
       "      <td>4055218</td>\n",
       "      <td>7587</td>\n",
       "      <td>+41.5793017</td>\n",
       "      <td>-081.5206108</td>\n",
       "      <td>POLYGON ((-81.53602 41.57285, -81.52908 41.577...</td>\n",
       "    </tr>\n",
       "  </tbody>\n",
       "</table>\n",
       "</div>"
      ],
      "text/plain": [
       "    STATEFP COUNTYFP TRACTCE        GEOID     NAME              NAMELSAD  \\\n",
       "190      39      035  175109  39035175109  1751.09  Census Tract 1751.09   \n",
       "191      39      035  175110  39035175110  1751.10  Census Tract 1751.10   \n",
       "192      39      035  190506  39035190506  1905.06  Census Tract 1905.06   \n",
       "193      39      035  172105  39035172105  1721.05  Census Tract 1721.05   \n",
       "194      39      035  152605  39035152605  1526.05  Census Tract 1526.05   \n",
       "\n",
       "     MTFCC FUNCSTAT    ALAND  AWATER     INTPTLAT      INTPTLON  \\\n",
       "190  G5020        S  3598417       0  +41.3432585  -081.7720694   \n",
       "191  G5020        S  5527803   25406  +41.3207460  -081.7646461   \n",
       "192  G5020        S  9542971       0  +41.3762370  -081.9424544   \n",
       "193  G5020        S   773060       0  +41.5266147  -081.4355169   \n",
       "194  G5020        S  4055218    7587  +41.5793017  -081.5206108   \n",
       "\n",
       "                                              geometry  \n",
       "190  POLYGON ((-81.78524 41.33829, -81.78522 41.339...  \n",
       "191  POLYGON ((-81.78528 41.32275, -81.78528 41.323...  \n",
       "192  POLYGON ((-81.97096 41.36935, -81.97096 41.369...  \n",
       "193  POLYGON ((-81.43879 41.53301, -81.43292 41.533...  \n",
       "194  POLYGON ((-81.53602 41.57285, -81.52908 41.577...  "
      ]
     },
     "execution_count": 26,
     "metadata": {},
     "output_type": "execute_result"
    }
   ],
   "source": [
    "cuyahoga_tracts.head()"
   ]
  },
  {
   "cell_type": "markdown",
   "id": "37ea7432-f4d6-4d11-ad55-4273eaa561a8",
   "metadata": {},
   "source": [
    "## Part 2: Combining Data"
   ]
  },
  {
   "cell_type": "code",
   "execution_count": null,
   "id": "1f47cafc-54c8-4361-963e-2b609e1985bc",
   "metadata": {},
   "outputs": [],
   "source": []
  },
  {
   "cell_type": "markdown",
   "id": "3b3c9a54-805a-42e3-ae24-98bfe6e6b3e1",
   "metadata": {},
   "source": [
    "## Part 3: Visualizations"
   ]
  },
  {
   "cell_type": "code",
   "execution_count": null,
   "id": "70b6aba7-72b6-4bfc-9852-3b9626279bc9",
   "metadata": {},
   "outputs": [],
   "source": []
  },
  {
   "cell_type": "markdown",
   "id": "093668bc-b186-42ba-a095-2af73cd6c96b",
   "metadata": {},
   "source": [
    "## Part 4: Correlation Analysis"
   ]
  },
  {
   "cell_type": "code",
   "execution_count": null,
   "id": "02f720b8-a3ba-4b8d-a74f-ecadedd38ff0",
   "metadata": {},
   "outputs": [],
   "source": []
  }
 ],
 "metadata": {
  "kernelspec": {
   "display_name": "Python 3",
   "language": "python",
   "name": "python3"
  },
  "language_info": {
   "codemirror_mode": {
    "name": "ipython",
    "version": 3
   },
   "file_extension": ".py",
   "mimetype": "text/x-python",
   "name": "python",
   "nbconvert_exporter": "python",
   "pygments_lexer": "ipython3",
   "version": "3.11.9"
  }
 },
 "nbformat": 4,
 "nbformat_minor": 5
}
