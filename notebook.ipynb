{
 "cells": [
  {
   "cell_type": "markdown",
   "id": "a432ea67-e9d6-4d5f-92e4-a3899efdffc0",
   "metadata": {},
   "source": [
    "## Steps for Notebook\n",
    "1. Getting the datasets (cleveland, census data, acs data) (https://la.arcgis.com/databrowser/index.html), (immigation, emigration) (https://www.census.gov/acs/www/data/data-tables-and-tools/data-profiles/2022/) (**Ethan**)\n",
    "2. Combine into one dataset via geoenrichment (per block per year) (could be zip_code per year) (**Calvin**)\n",
    "4. Initial Visualization (hotspots for crime and socioeconomic factors, visualize blocks/zip_codes in Cleveland, show difference in demographics with a hotspot comparing 2010 vs 2020 census) (**Calvin** for hotspot), (**Ethan** for chloropleth maps)\n",
    "5. Perform correlation analysis with hotspots. How much socioeconomic factors explain the varability in crime rate. (**Ethan**)\n",
    "6. kNN, Isolation Forest, One-class SVM, Random Forest. Predict the crime rate for a zip-code/block based on socioeconomic factors. Split into a training vs test set (80/20). See which ones have the lowest MSE. (**Ethan** for Random Forest, Isolation Forest) (**Calvin** for kNN and One-class SVM)\n",
    "8. Comparing the models and detemerining the best one. (**Calvin**)"
   ]
  },
  {
   "cell_type": "markdown",
   "id": "5fbca766-6914-4727-acdd-cfa281704470",
   "metadata": {},
   "source": [
    "Finish up to step 4 by Thursday "
   ]
  },
  {
   "cell_type": "markdown",
   "id": "47843e54",
   "metadata": {},
   "source": [
    "## Imports"
   ]
  },
  {
   "cell_type": "code",
   "execution_count": 35,
   "id": "dfc587a3-9cf1-4dcc-8ad4-44ef0c135837",
   "metadata": {},
   "outputs": [],
   "source": [
    "# imports\n",
    "import pandas as pd\n",
    "import geopandas as gpd\n",
    "import numpy as np\n",
    "import os\n",
    "import imageio\n",
    "\n",
    "import censusdata\n",
    "from census import Census\n",
    "from us import states\n",
    "\n",
    "from matplotlib import pyplot as plt\n",
    "import pygris\n",
    "import folium\n",
    "\n",
    "import arcgis\n",
    "from arcgis.gis import GIS\n",
    "from arcgis import geometry\n",
    "from arcgis.geometry import Geometry, SpatialReference\n",
    "from arcgis.features import FeatureLayer\n",
    "\n",
    "pd.set_option('display.max_columns', None)"
   ]
  },
  {
   "cell_type": "markdown",
   "id": "4129ff43",
   "metadata": {},
   "source": [
    "## Part 0: Imports and Initialization"
   ]
  },
  {
   "cell_type": "markdown",
   "id": "3f2cb2d6",
   "metadata": {},
   "source": [
    "### Functions"
   ]
  },
  {
   "cell_type": "code",
   "execution_count": 2,
   "id": "ce4308b6",
   "metadata": {},
   "outputs": [],
   "source": [
    "\n",
    "def download_OH_data(var_map, year_start, year_end):\n",
    "    df_final = None\n",
    "    \n",
    "    for yr in range(year_start, year_end + 1):\n",
    "        c = Census(\"4977648d549eae5dd6bc0563b7c148db6c44642d\", year=yr)\n",
    "        \n",
    "        for raw_var, alias in var_map.items():\n",
    "  \n",
    "            if raw_var.startswith('DP'):\n",
    "                data = c.acs5dp.get(\n",
    "                    ('NAME', raw_var),\n",
    "                    {'for': 'tract:*', 'in': f'state:{states.OH.fips} county:035'}\n",
    "                )\n",
    "            else:\n",
    "                data = c.acs5.get(\n",
    "                    ('NAME', raw_var),\n",
    "                    {'for': 'tract:*', 'in': f'state:{states.OH.fips} county:035'}\n",
    "                )\n",
    "            \n",
    "\n",
    "            df_temp = pd.DataFrame(data)\n",
    "            df_temp.rename(columns={raw_var: f\"{alias}_{yr}\"}, inplace=True)\n",
    "\n",
    "            # Merge it into df_final\n",
    "            if df_final is None:\n",
    "                # If this is the first chunk of data, just assign\n",
    "                df_final = df_temp\n",
    "            else:\n",
    "                # Otherwise, merge on the geo-id columns\n",
    "                df_final = pd.merge(\n",
    "                    df_final, df_temp,\n",
    "                    on=['NAME', 'state', 'county', 'tract'],\n",
    "                    how='outer'  # or 'inner', your choice\n",
    "                )\n",
    "                \n",
    "    return df_final\n",
    "\n",
    "def split_df_by_year(df):\n",
    "    # dict of years with lists of sets of column_name without years and column_name with years\n",
    "    year_cols = {}\n",
    "    for col in df.columns:\n",
    "        parts = col.split('_')\n",
    "        if len(parts) > 1 and parts[-1].isdigit() and len(parts[-1]) == 4:\n",
    "            year = parts[-1]\n",
    "            base_name = '_'.join(parts[:-1])\n",
    "            if year not in year_cols:\n",
    "                year_cols[year] = []\n",
    "            year_cols[year].append((base_name, col))\n",
    "\n",
    "    dfs = {}\n",
    "    for year, cols in year_cols.items():\n",
    "        new_df = df[['NAME', 'state', 'county', 'tract']].copy() \n",
    "        new_df['year'] = year\n",
    "        for base_name, col in cols:\n",
    "            new_df[base_name] = df[col]\n",
    "        dfs[year] = new_df\n",
    "\n",
    "    return dfs\n"
   ]
  },
  {
   "cell_type": "markdown",
   "id": "5659030a-5eb7-4176-90ed-5df5fac0ba00",
   "metadata": {},
   "source": [
    "## Part 1: Getting Data"
   ]
  },
  {
   "cell_type": "markdown",
   "id": "f53bb8e6",
   "metadata": {},
   "source": [
    "### Census Data"
   ]
  },
  {
   "cell_type": "markdown",
   "id": "81d13254",
   "metadata": {},
   "source": [
    "- Utilizing search functionality to locate variables"
   ]
  },
  {
   "cell_type": "code",
   "execution_count": 3,
   "id": "1a71378f",
   "metadata": {},
   "outputs": [],
   "source": [
    "s = censusdata.search('acs5', 2015, 'label', 'family')\n",
    "# s"
   ]
  },
  {
   "cell_type": "markdown",
   "id": "b6a772cc",
   "metadata": {},
   "source": [
    "- Codes of collected variables we will be using"
   ]
  },
  {
   "cell_type": "code",
   "execution_count": 22,
   "id": "78575621-6ebc-4b8c-afe3-2f2bef3c3b3c",
   "metadata": {},
   "outputs": [],
   "source": [
    "'''\n",
    "TODO: there are a lot of these, will require merging\n",
    "   # AGE DISTRIBUTION VARIABLES\n",
    "   'B01001_003E': 'age_male_0_4',\n",
    "   'B01001_004E': 'age_male_5_9',\n",
    "   'B01001_005E': 'age_male_10_14',\n",
    "   'B01001_006E': 'age_male_15_17',\n",
    "   'B01001_007E': 'age_male_18_19',\n",
    "   'B01001_008E': 'age_male_20',\n",
    "   'B01001_009E': 'age_male_21',\n",
    "   'B01001_010E': 'age_male_22_24',\n",
    "   'B01001_011E': 'age_male_25_29',\n",
    "   'B01001_012E': 'age_male_30_34',\n",
    "   'B01001_013E': 'age_male_35_39',\n",
    "   'B01001_014E': 'age_male_40_44',\n",
    "   'B01001_015E': 'age_male_45_49',\n",
    "   'B01001_016E': 'age_male_50_54',\n",
    "   'B01001_017E': 'age_male_55_59',\n",
    "   'B01001_018E': 'age_male_60_61',\n",
    "   'B01001_019E': 'age_male_62_64',\n",
    "   'B01001_020E': 'age\n",
    "'''\n",
    "\n",
    "'''\n",
    "Add. codes to find:\n",
    " - Immigration/emmigration (how many people are moving to/from the area?)\n",
    "    - mobility/migration\n",
    " - Housing information (how many people own/rent their homes?)\n",
    "'''\n",
    "codes = {\n",
    "   # INCOME VARIABLES\n",
    "   'B06010_003E': 'income_yes',\n",
    "   'B06010_004E': 'income_no',\n",
    "   'B06010_005E': 'income_0_10k',\n",
    "   'B06010_006E': 'income_10_25k',\n",
    "   'B06010_007E': 'income_25_35k',\n",
    "   'B06010_008E': 'income_35_45k',\n",
    "   'B06010_009E': 'income_45_55k',\n",
    "   'B06010_010E': 'income_55_65k',\n",
    "   'B06010_011E': 'income_65_75k',\n",
    "   'B06010_013E': 'income_over_75k',\n",
    "   'B06002_001E': 'median_age',\n",
    "   # EDUCATION VARIABLES\n",
    "   'B15003_017E': 'edu_highschool',\n",
    "   'B15003_018E': 'edu_ged',\n",
    "   'B15003_021E': 'edu_associates',\n",
    "   'B15003_022E': 'edu_bachelors',\n",
    "   'B15003_023E': 'edu_masters',\n",
    "   'B15003_024E': 'edu_professional',\n",
    "   'B15003_025E': 'edu_doctorate',\n",
    "\n",
    "   #FAMILY STRUCTURE VARIABLES\n",
    "   'B11001_003E': 'household_fam_married_couple',\n",
    "   'B11001_004E': 'household_fam_other',\n",
    "   'B11001_005E': 'household_fam_male',\n",
    "   'B11001_006E': 'household_fam_female',\n",
    "   'B11001_008E': 'household_nonfam_alone',\n",
    "   'B11001_009E': 'household_nonfam_not_alone',\n",
    "\n",
    "   # Measure of index inequality\n",
    "   'B19083_001E': 'gini_index'\n",
    "}"
   ]
  },
  {
   "cell_type": "markdown",
   "id": "76c885b8",
   "metadata": {},
   "source": [
    "- Running the downloads"
   ]
  },
  {
   "cell_type": "code",
   "execution_count": null,
   "id": "448a31e8",
   "metadata": {},
   "outputs": [],
   "source": [
    "df_2010 = download_OH_data(codes, 2015, 2019)"
   ]
  },
  {
   "cell_type": "code",
   "execution_count": 24,
   "id": "96c9d4d8",
   "metadata": {},
   "outputs": [],
   "source": [
    "dfs_2010 = split_df_by_year(df_2010)\n",
    "final_df_2010 = pd.concat(dfs_2010.values(), ignore_index=True)"
   ]
  },
  {
   "cell_type": "code",
   "execution_count": 28,
   "id": "85b63757",
   "metadata": {},
   "outputs": [],
   "source": [
    "tracts_2010 = pygris.tracts(state=\"39\", county=\"035\", year=2015)\n",
    "tracts_2020 = pygris.tracts(state=\"39\", county=\"035\", year=2020)\n",
    "\n",
    "# Drop the tract containing Lake Erie for better plotting\n",
    "# I'm pretty sure this doesn't matter anyways??\n",
    "tracts_2010 = tracts_2010.drop(index=680).reset_index(drop=True)[['TRACTCE','geometry']]\n",
    "tracts_2020 = tracts_2020.drop(index=308).reset_index(drop=True)[['TRACTCE','geometry']]"
   ]
  },
  {
   "cell_type": "code",
   "execution_count": null,
   "id": "60bd99be",
   "metadata": {},
   "outputs": [],
   "source": [
    "final_df_2010 = final_df_2010.merge(tracts_2010, left_on='tract', right_on='TRACTCE', how='left').drop(columns=['TRACTCE'])"
   ]
  },
  {
   "cell_type": "code",
   "execution_count": 50,
   "id": "00b77074",
   "metadata": {},
   "outputs": [],
   "source": [
    "final_df_2010 = gpd.GeoDataFrame(final_df_2010, geometry='geometry', crs=\"EPSG:4269\")"
   ]
  },
  {
   "cell_type": "code",
   "execution_count": null,
   "id": "0751d0f3",
   "metadata": {},
   "outputs": [],
   "source": [
    "'''\n",
    "TODO: we need to find a way to merge our data between the two different censuses.\n",
    "Because the tracts are different across 2010 and 2020 we cannot simply combine them\n",
    "This tool can be used to visually see differences.\n",
    "https://www.robots.ox.ac.uk/~vgg/software/image-compare/app/latest/\n",
    "'''\n",
    "# tract_rel_df = pd.read_csv('./data/2010tract_to_2020_tract_relationships.txt', delimiter='|', dtype=str)\n",
    "# tract_rel_df.head()"
   ]
  },
  {
   "cell_type": "markdown",
   "metadata": {},
   "source": [
    "## Crime Incidents Data"
   ]
  },
  {
   "cell_type": "code",
   "execution_count": null,
   "id": "fc5e200b",
   "metadata": {},
   "outputs": [],
   "source": [
    "url = 'https://services3.arcgis.com/dty2kHktVXHrqO8i/arcgis/rest/services/Crime_Incidents/FeatureServer/0'\n",
    "layer = FeatureLayer(url)\n",
    "sdf = layer.query(where=\"OffenseYear >= 2015 AND OffenseYear <= 2021\", out_fields=\"*\", as_df=True)\n",
    "# udeally we would like to save it to ArcGIS, but we can't :(\n",
    "sdf.head()"
   ]
  },
  {
   "cell_type": "markdown",
   "id": "37ea7432-f4d6-4d11-ad55-4273eaa561a8",
   "metadata": {},
   "source": [
    "## Part 2: Preprocessing and Combining Data"
   ]
  },
  {
   "cell_type": "markdown",
   "id": "3b3c9a54-805a-42e3-ae24-98bfe6e6b3e1",
   "metadata": {},
   "source": [
    "## Part 3: Visualizations"
   ]
  },
  {
   "cell_type": "markdown",
   "id": "43462bcf",
   "metadata": {},
   "source": [
    "- VERY IMPORTANT: THE CENSUS TRACTS CHANGE IN QUANTITY AND BOUNDARY STARTING IN 2020\n",
    "- We can use the relationship file provided below to figure out these differences\n",
    "https://www.census.gov/geographies/reference-files/time-series/geo/relationship-files.2020.html"
   ]
  },
  {
   "cell_type": "code",
   "execution_count": null,
   "id": "d6fe7b73",
   "metadata": {},
   "outputs": [],
   "source": [
    "# skip_cols = ['NAME', 'state', 'county', 'tract', 'year', 'geometry']\n",
    "# # Create a dictionary mapping each column to its (min, max) across the dataset\n",
    "# column_ranges = {}\n",
    "# for col in final_df_2010.columns:\n",
    "#     if col in skip_cols:\n",
    "#         continue\n",
    "#     col_min = final_df_2010[col].min()\n",
    "#     col_max = final_df_2010[col].max()\n",
    "#     column_ranges[col] = (col_min, col_max)\n",
    "\n",
    "# output_dir = \"maps\"\n",
    "# os.makedirs(output_dir, exist_ok=True)\n",
    "\n",
    "# unique_years = sorted(final_df_2010['year'].unique())\n",
    "\n",
    "# for col in final_df_2010.columns:\n",
    "#     if col in skip_cols:\n",
    "#         continue\n",
    "#     # Make a subfolder for each column to store yearly maps\n",
    "#     col_dir = os.path.join(output_dir, col)\n",
    "#     os.makedirs(col_dir, exist_ok=True)\n",
    "    \n",
    "#     vmin, vmax = column_ranges[col]\n",
    "    \n",
    "#     for yr in unique_years:\n",
    "#         df_year = final_df_2010[final_df_2010['year'] == yr]\n",
    "        \n",
    "#         fig, ax = plt.subplots(1, 1, figsize=(8, 8))\n",
    "        \n",
    "#         # Choropleth plot, specifying a consistent color range\n",
    "#         df_year.plot(\n",
    "#             column = col,  # <-- numeric column for coloring\n",
    "#             legend = True,          # shows color bar legend\n",
    "#             figsize = (10, 10),     # size of the figure\n",
    "#             cmap = \"plasma\",        # color map\n",
    "#             legend_kwds = {\"shrink\": 0.5},     # shrink legend if needed\n",
    "#             missing_kwds = {\"color\": \"lightgrey\"},  # color for NaN or missing geometry\n",
    "#             ax=ax,\n",
    "#             vmin=vmin,\n",
    "#             vmax=vmax,\n",
    "#         )\n",
    "\n",
    "#         # Set color limits\n",
    "#         sm = plt.cm.ScalarMappable(cmap=\"plasma\", norm=plt.Normalize(vmin=vmin, vmax=vmax))\n",
    "#         sm._A = []\n",
    "#         cbar = fig.colorbar(sm, ax=ax)\n",
    "        \n",
    "#         ax.set_title(f\"{col} in {yr}\")\n",
    "#         ax.axis('off')\n",
    "        \n",
    "#         # Save the figure\n",
    "#         outpath = os.path.join(col_dir, f\"{col}_{yr}.png\")\n",
    "#         plt.savefig(outpath, bbox_inches='tight', dpi=150)\n",
    "#         plt.close(fig)\n",
    "\n",
    "# for col in final_df_2010.columns:\n",
    "#     if col in skip_cols:\n",
    "#         continue\n",
    "#     col_dir = os.path.join(output_dir, col)\n",
    "#     # Sort the file names by year\n",
    "#     frames = []\n",
    "#     for yr in unique_years:\n",
    "#         filename = f\"{col}_{yr}.png\"\n",
    "#         filepath = os.path.join(col_dir, filename)\n",
    "#         frames.append(imageio.imread(filepath))\n",
    "\n",
    "#     # Create the GIF\n",
    "#     gif_path = os.path.join(output_dir, f\"{col}.gif\")\n",
    "#     imageio.mimsave(gif_path, frames, duration=2.0,loop=0)  # 1 second per frame"
   ]
  },
  {
   "cell_type": "code",
   "execution_count": null,
   "id": "722e3d0a",
   "metadata": {},
   "outputs": [],
   "source": [
    "cuya"
   ]
  },
  {
   "cell_type": "markdown",
   "id": "093668bc-b186-42ba-a095-2af73cd6c96b",
   "metadata": {},
   "source": [
    "## Part 4: Correlation Analysis"
   ]
  },
  {
   "cell_type": "code",
   "execution_count": null,
   "id": "02f720b8-a3ba-4b8d-a74f-ecadedd38ff0",
   "metadata": {},
   "outputs": [],
   "source": []
  }
 ],
 "metadata": {
  "kernelspec": {
   "display_name": "Python 3",
   "language": "python",
   "name": "python3"
  },
  "language_info": {
   "codemirror_mode": {
    "name": "ipython",
    "version": 3
   },
   "file_extension": ".py",
   "mimetype": "text/x-python",
   "name": "python",
   "nbconvert_exporter": "python",
   "pygments_lexer": "ipython3",
   "version": "3.11.9"
  }
 },
 "nbformat": 4,
 "nbformat_minor": 5
}
